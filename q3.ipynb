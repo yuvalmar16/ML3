{
 "cells": [
  {
   "cell_type": "markdown",
   "metadata": {},
   "source": [
    "# Question 3\n"
   ]
  },
  {
   "cell_type": "markdown",
   "metadata": {},
   "source": [
    "## 1 "
   ]
  },
  {
   "cell_type": "code",
   "execution_count": 23,
   "metadata": {},
   "outputs": [],
   "source": [
    "# Cross validation for the model\n",
    "import numpy as np\n",
    "import pandas as pd\n",
    "\n",
    "\n",
    "def cross_validation_error(X,y,model,folds):\n",
    "    \"\"\" \n",
    "    Compute the cross validation error for a given Data and model \n",
    "    X : the Data matrix and a numpy array of shape (n,d)\n",
    "    y : the labels vector and a numpy array of shape (n,) \n",
    "    model : an instance of a class with fit and predict methods\n",
    "    folds : the number of folds for the cross validation\n",
    "    return the average training error and the average validation error as a tuple\n",
    "    \"\"\"\n",
    "    n = X.shape[0]# number of rows\n",
    "    fold_size = n//folds # size of each fold calculated by dividing the number of rows by the number of folds\n",
    "    train_errors_list=list()\n",
    "    validation_errors_list=list()\n",
    "    for i in range(folds):\n",
    "        # Split the data into training and validation sets\n",
    "        validation_indices = list(range(i*fold_size,(i+1)*fold_size))\n",
    "        training_indices = list(set(range(n))-set(validation_indices))\n",
    "        X_train = X[training_indices]\n",
    "        y_train = y[training_indices]\n",
    "        X_validation = X[validation_indices]\n",
    "        y_validation = y[validation_indices]\n",
    "        # Fit the model\n",
    "        model.fit(X_train,y_train)\n",
    "        # Compute the error on the training and store it in train errors list\n",
    "        train_prediction = model.predict(X_train)\n",
    "        train_error = 1-np.mean(train_prediction==y_train)\n",
    "        train_errors_list.append(train_error)\n",
    "        # Compute the error on the validation and store it in validation errors list\n",
    "        validation_prediction = model.predict(X_validation)\n",
    "        validation_error = 1-np.mean(validation_prediction==y_validation)\n",
    "        validation_errors_list.append(validation_error)\n",
    "      \n",
    "\n",
    "    #calclate the average of the training and validation errors\n",
    "    avg_train_error = np.mean(train_errors_list)\n",
    "    avg_validation_error = np.mean(validation_errors_list)\n",
    "    return (avg_train_error,avg_validation_error)\n",
    "        \n",
    "  "
   ]
  },
  {
   "cell_type": "markdown",
   "metadata": {},
   "source": [
    "## 2"
   ]
  },
  {
   "cell_type": "code",
   "execution_count": 37,
   "metadata": {},
   "outputs": [],
   "source": [
    "from sklearn.svm import SVC\n",
    "def svm_result(X_train, y_train, X_test, y_test):\n",
    "    \"\"\"\n",
    "    run the cross validation error from the previous part with 5 folds and the SVM model for each parameter C=1/lambda for lamda in [0.0001,0.01,1,100,10000]\n",
    "    X_train : the training Data matrix and a numpy array of shape (n,d)\n",
    "    y_train : the training labels vector and a numpy array of shape (n,)\n",
    "    X_test : the test Data matrix and a numpy array of shape (n,d)\n",
    "    y_test : the test labels vector and a numpy array of shape (n,)\n",
    "    return dictionary where the keys are the model name and the values are tuples of the average training error the average validation error and the test error\n",
    "  \n",
    "    \"\"\"\n",
    "    result = {}\n",
    "    lambdas = [0.0001, 0.01, 1, 100, 10000]\n",
    "    # iterate over the lambdas and store the results in the dictionary \n",
    "    for lmbda in lambdas:\n",
    "        model = SVC(C=1/lmbda, kernel='linear')\n",
    "        avg_train_error, avg_validation_error = cross_validation_error(X_train, y_train, model, 5)\n",
    "        model.fit(X_train, y_train)\n",
    "        test_prediction = model.predict(X_test)\n",
    "        test_error = 1 - np.mean(test_prediction == y_test)\n",
    "        result['SVM_' + str(lmbda)] = (avg_train_error, avg_validation_error, test_error)\n",
    "    return result    \n",
    "  "
   ]
  },
  {
   "cell_type": "markdown",
   "metadata": {},
   "source": [
    "## 3"
   ]
  },
  {
   "cell_type": "code",
   "execution_count": 25,
   "metadata": {},
   "outputs": [],
   "source": [
    "from sklearn.datasets import load_iris\n",
    "iris_data = load_iris()\n",
    "X, y = iris_data['data'], iris_data['target']"
   ]
  },
  {
   "cell_type": "code",
   "execution_count": 26,
   "metadata": {},
   "outputs": [],
   "source": [
    "from sklearn.model_selection import train_test_split\n",
    "X_train, X_test, y_train, y_test = train_test_split(X, y, test_size=0.2, random_state=7)\n"
   ]
  },
  {
   "cell_type": "code",
   "execution_count": 33,
   "metadata": {},
   "outputs": [
    {
     "name": "stdout",
     "output_type": "stream",
     "text": [
      "{'SVM_0.0001': (0.0, 0.033333333333333305, 0.16666666666666663), 'SVM_0.01': (0.008333333333333326, 0.024999999999999977, 0.16666666666666663), 'SVM_1': (0.008333333333333304, 0.008333333333333326, 0.033333333333333326), 'SVM_100': (0.0625, 0.07500000000000002, 0.16666666666666663), 'SVM_10000': (0.6416666666666668, 0.6416666666666668, 0.7666666666666666)}\n"
     ]
    }
   ],
   "source": [
    "result=svm_result(X_train, y_train, X_test, y_test)\n",
    "print(result)"
   ]
  },
  {
   "cell_type": "code",
   "execution_count": 41,
   "metadata": {},
   "outputs": [
    {
     "name": "stdout",
     "output_type": "stream",
     "text": [
      "{'0.0001': (0.0, 0.033333333333333305, 0.16666666666666663), '0.01': (0.008333333333333326, 0.024999999999999977, 0.16666666666666663), '1': (0.008333333333333304, 0.008333333333333326, 0.033333333333333326), '100': (0.0625, 0.07500000000000002, 0.16666666666666663), '10000': (0.6416666666666668, 0.6416666666666668, 0.7666666666666666)}\n"
     ]
    },
    {
     "data": {
      "image/png": "[encoded data removed]",
      "text/plain": [
       "<Figure size 640x480 with 1 Axes>"
      ]
     },
     "metadata": {},
     "output_type": "display_data"
    }
   ],
   "source": [
    "# bar plot for the average training and validation errors for each model and test error for each lamda\n",
    "import matplotlib.pyplot as plt\n",
    "#rename the keys of the diciotnary to be the lambdas only\n",
    "result2 = {k.split('_')[1]:v for k,v in result.items()}\n",
    "\n",
    "df = pd.DataFrame(result2).T\n",
    "df.columns = ['Training Error','Validation Error','Test Error']\n",
    "df.plot(kind='bar')\n",
    "#set the x to be horizontal\n",
    "plt.xticks(rotation=0)\n",
    "plt.title('Training, Validation and Test Errors for each lambda In SVM')\n",
    "plt.ylabel('Error')\n",
    "plt.xlabel('lambda')\n",
    "plt.show()\n",
    "\n",
    "\n"
   ]
  },
  {
   "cell_type": "markdown",
   "metadata": {},
   "source": [
    "The best model according to the Cross Validation is where $\\lambda=1$.\n",
    " It has a good balance between training and validation errors, and importantly, it has the lowest test error, suggesting good generalization to unseen data.\n",
    "Moreover it is the best model for the test error we can see that for small lambda values the model ovefits, and for higher lambda values it underfits so the cross validation\n",
    "can find the best model for low train errors too.\n",
    " \n"
   ]
  }
 ],
 "metadata": {
  "kernelspec": {
   "display_name": "base",
   "language": "python",
   "name": "python3"
  },
  "language_info": {
   "codemirror_mode": {
    "name": "ipython",
    "version": 3
   },
   "file_extension": ".py",
   "mimetype": "text/x-python",
   "name": "python",
   "nbconvert_exporter": "python",
   "pygments_lexer": "ipython3",
   "version": "3.10.9"
  }
 },
 "nbformat": 4,
 "nbformat_minor": 2
}
